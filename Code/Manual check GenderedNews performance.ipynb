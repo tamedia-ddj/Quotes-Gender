{
 "cells": [
  {
   "cell_type": "code",
   "execution_count": 1,
   "id": "dd1bb933-e654-4269-b566-84951de4ed94",
   "metadata": {},
   "outputs": [],
   "source": [
    "import numpy as np\n",
    "import json\n",
    "import pandas as pd"
   ]
  },
  {
   "cell_type": "markdown",
   "id": "449e578e-39fa-4a3c-a571-f6b245ddc28f",
   "metadata": {
    "tags": []
   },
   "source": [
    "### Data load & processing"
   ]
  },
  {
   "cell_type": "code",
   "execution_count": 2,
   "id": "95d9c53e-7999-457a-af70-c43a80172c5f",
   "metadata": {},
   "outputs": [],
   "source": [
    "s = pd.read_csv(\"../Data/Annotations.tsv\", delimiter = '\\t')\n",
    "#s = pd.read_csv(\"s.tsv\", delimiter = '\\t')"
   ]
  },
  {
   "cell_type": "code",
   "execution_count": 3,
   "id": "3fe1b234-c39e-43dc-a204-45ac94cd7004",
   "metadata": {},
   "outputs": [],
   "source": [
    "s.columns = s.iloc[0]\n",
    "s = s.iloc[1:]"
   ]
  },
  {
   "cell_type": "code",
   "execution_count": 4,
   "id": "55573053-5faf-4263-b048-2735201af4ff",
   "metadata": {},
   "outputs": [],
   "source": [
    "s = s[s.columns[:-1]]"
   ]
  },
  {
   "cell_type": "code",
   "execution_count": 5,
   "id": "0836b872-0f97-4ffa-bbc4-a660e36f89a1",
   "metadata": {},
   "outputs": [],
   "source": [
    "s.index = range(len(s))"
   ]
  },
  {
   "cell_type": "code",
   "execution_count": 6,
   "id": "f7bfbed6-a4ba-4afb-bb96-4ef29b73edd8",
   "metadata": {},
   "outputs": [],
   "source": [
    "annotés = s[(s['Annoté par'] == 'Youssef') | (s['Annoté par'] == 'Titouan') | (s['Annoté par'] == 'Majdouline') | (s['Annoté par'] == 'Younes') | (s['Annoté par'] == 'tarak')]\n",
    "annotés.index = range(len(annotés))"
   ]
  },
  {
   "cell_type": "code",
   "execution_count": 7,
   "id": "93136209-5a98-494b-847e-8db1ebd21b2b",
   "metadata": {},
   "outputs": [
    {
     "name": "stderr",
     "output_type": "stream",
     "text": [
      "D:\\Miniconda\\lib\\site-packages\\pandas\\core\\indexing.py:1637: SettingWithCopyWarning: \n",
      "A value is trying to be set on a copy of a slice from a DataFrame\n",
      "\n",
      "See the caveats in the documentation: https://pandas.pydata.org/pandas-docs/stable/user_guide/indexing.html#returning-a-view-versus-a-copy\n",
      "  self._setitem_single_block(indexer, value, name)\n",
      "D:\\Miniconda\\lib\\site-packages\\pandas\\core\\indexing.py:692: SettingWithCopyWarning: \n",
      "A value is trying to be set on a copy of a slice from a DataFrame\n",
      "\n",
      "See the caveats in the documentation: https://pandas.pydata.org/pandas-docs/stable/user_guide/indexing.html#returning-a-view-versus-a-copy\n",
      "  iloc._setitem_with_indexer(indexer, value, self.name)\n"
     ]
    }
   ],
   "source": [
    "#correcting certain issues related to the ids\n",
    "annotés.loc[277, 'ArticleID'] = 372931167855\n",
    "annotés.loc[290, 'ArticleID'] = 42388515"
   ]
  },
  {
   "cell_type": "code",
   "execution_count": 8,
   "id": "1c6c661a-e486-44e4-aa8b-1ef4d732c06b",
   "metadata": {},
   "outputs": [],
   "source": [
    "articles_ids = list(annotés['ArticleID'].astype(np.int64).drop_duplicates())"
   ]
  },
  {
   "cell_type": "code",
   "execution_count": 9,
   "id": "8ddcc0fb-cfa4-4654-b6ab-8f86ded12706",
   "metadata": {},
   "outputs": [],
   "source": [
    "def vrai_faux_convert(x):\n",
    "    if x == 'FAUX':\n",
    "        return \"false\"\n",
    "    elif x == 'VRAI':\n",
    "        return \"true\"\n",
    "    else:\n",
    "        return str(x).lower()"
   ]
  },
  {
   "cell_type": "code",
   "execution_count": 10,
   "id": "7dccbbfa-75ee-462f-88ea-de8ca0a957ca",
   "metadata": {},
   "outputs": [
    {
     "name": "stderr",
     "output_type": "stream",
     "text": [
      "D:\\Miniconda\\lib\\site-packages\\ipykernel_launcher.py:1: SettingWithCopyWarning: \n",
      "A value is trying to be set on a copy of a slice from a DataFrame.\n",
      "Try using .loc[row_indexer,col_indexer] = value instead\n",
      "\n",
      "See the caveats in the documentation: https://pandas.pydata.org/pandas-docs/stable/user_guide/indexing.html#returning-a-view-versus-a-copy\n",
      "  \"\"\"Entry point for launching an IPython kernel.\n"
     ]
    }
   ],
   "source": [
    "annotés['Indirect'] = annotés['Indirect'].map(lambda x: vrai_faux_convert(x))"
   ]
  },
  {
   "cell_type": "code",
   "execution_count": 11,
   "id": "848f1edb-eb70-46cb-8dc6-47aefc80be61",
   "metadata": {},
   "outputs": [
    {
     "data": {
      "text/html": [
       "<div>\n",
       "<style scoped>\n",
       "    .dataframe tbody tr th:only-of-type {\n",
       "        vertical-align: middle;\n",
       "    }\n",
       "\n",
       "    .dataframe tbody tr th {\n",
       "        vertical-align: top;\n",
       "    }\n",
       "\n",
       "    .dataframe thead th {\n",
       "        text-align: right;\n",
       "    }\n",
       "</style>\n",
       "<table border=\"1\" class=\"dataframe\">\n",
       "  <thead>\n",
       "    <tr style=\"text-align: right;\">\n",
       "      <th></th>\n",
       "      <th>ArticleID</th>\n",
       "      <th>Citation</th>\n",
       "      <th>Auteur.e</th>\n",
       "      <th>Verb</th>\n",
       "      <th>Indirect</th>\n",
       "      <th>Sexe</th>\n",
       "      <th>Annoté par</th>\n",
       "      <th>Remarque</th>\n",
       "    </tr>\n",
       "  </thead>\n",
       "  <tbody>\n",
       "    <tr>\n",
       "      <th>0</th>\n",
       "      <td>41640342</td>\n",
       "      <td>Terroriste high-tech</td>\n",
       "      <td>NaN</td>\n",
       "      <td>NaN</td>\n",
       "      <td>false</td>\n",
       "      <td>unknown</td>\n",
       "      <td>Majdouline</td>\n",
       "      <td>NaN</td>\n",
       "    </tr>\n",
       "    <tr>\n",
       "      <th>1</th>\n",
       "      <td>41640342</td>\n",
       "      <td>Der Spigel</td>\n",
       "      <td>Stella Moris</td>\n",
       "      <td>a souligné</td>\n",
       "      <td>false</td>\n",
       "      <td>female</td>\n",
       "      <td>Majdouline</td>\n",
       "      <td>NaN</td>\n",
       "    </tr>\n",
       "    <tr>\n",
       "      <th>2</th>\n",
       "      <td>41640342</td>\n",
       "      <td>il n’a vu aucun de ses avocats depuis mars</td>\n",
       "      <td>Stella Moris</td>\n",
       "      <td>a souligné</td>\n",
       "      <td>false</td>\n",
       "      <td>female</td>\n",
       "      <td>Majdouline</td>\n",
       "      <td>NaN</td>\n",
       "    </tr>\n",
       "    <tr>\n",
       "      <th>3</th>\n",
       "      <td>41640342</td>\n",
       "      <td>La défense de Julian en a été sérieusement han...</td>\n",
       "      <td>Stella Moris</td>\n",
       "      <td>a dénoncé</td>\n",
       "      <td>false</td>\n",
       "      <td>female</td>\n",
       "      <td>Majdouline</td>\n",
       "      <td>NaN</td>\n",
       "    </tr>\n",
       "    <tr>\n",
       "      <th>4</th>\n",
       "      <td>41640342</td>\n",
       "      <td>la situation à la prison de Belmarsh n’est rie...</td>\n",
       "      <td>Stella Moris</td>\n",
       "      <td>a affirmé</td>\n",
       "      <td>false</td>\n",
       "      <td>female</td>\n",
       "      <td>Majdouline</td>\n",
       "      <td>NaN</td>\n",
       "    </tr>\n",
       "    <tr>\n",
       "      <th>...</th>\n",
       "      <td>...</td>\n",
       "      <td>...</td>\n",
       "      <td>...</td>\n",
       "      <td>...</td>\n",
       "      <td>...</td>\n",
       "      <td>...</td>\n",
       "      <td>...</td>\n",
       "      <td>...</td>\n",
       "    </tr>\n",
       "    <tr>\n",
       "      <th>569</th>\n",
       "      <td>41701752</td>\n",
       "      <td>On se tient prêt, comme on l’est depuis le 1er...</td>\n",
       "      <td>Jean-Marc Robbiani</td>\n",
       "      <td>enchaîne</td>\n",
       "      <td>false</td>\n",
       "      <td>male</td>\n",
       "      <td>Majdouline</td>\n",
       "      <td>difficile d'etre détecté</td>\n",
       "    </tr>\n",
       "    <tr>\n",
       "      <th>570</th>\n",
       "      <td>41701902</td>\n",
       "      <td>compte tenu de l’évolution de la situation, Be...</td>\n",
       "      <td>les juges de Mon Repos</td>\n",
       "      <td>estiment</td>\n",
       "      <td>true</td>\n",
       "      <td>unknown</td>\n",
       "      <td>Majdouline</td>\n",
       "      <td>NaN</td>\n",
       "    </tr>\n",
       "    <tr>\n",
       "      <th>571</th>\n",
       "      <td>41701902</td>\n",
       "      <td>la Cour européenne des droits de l’homme a tra...</td>\n",
       "      <td>Le Tribunal fédéral</td>\n",
       "      <td>rappelle</td>\n",
       "      <td>true</td>\n",
       "      <td>unknown</td>\n",
       "      <td>Majdouline</td>\n",
       "      <td>NaN</td>\n",
       "    </tr>\n",
       "    <tr>\n",
       "      <th>572</th>\n",
       "      <td>41701902</td>\n",
       "      <td>en vertu de modifications législatives et cons...</td>\n",
       "      <td>Le Tribunal fédéral</td>\n",
       "      <td>souligne</td>\n",
       "      <td>true</td>\n",
       "      <td>unknown</td>\n",
       "      <td>Majdouline</td>\n",
       "      <td>NaN</td>\n",
       "    </tr>\n",
       "    <tr>\n",
       "      <th>573</th>\n",
       "      <td>41701902</td>\n",
       "      <td>il n’y a pas de risque de persécution politique</td>\n",
       "      <td>TF</td>\n",
       "      <td>estime</td>\n",
       "      <td>true</td>\n",
       "      <td>unknown</td>\n",
       "      <td>Majdouline</td>\n",
       "      <td>NaN</td>\n",
       "    </tr>\n",
       "  </tbody>\n",
       "</table>\n",
       "<p>574 rows × 8 columns</p>\n",
       "</div>"
      ],
      "text/plain": [
       "0   ArticleID                                           Citation  \\\n",
       "0    41640342                               Terroriste high-tech   \n",
       "1    41640342                                         Der Spigel   \n",
       "2    41640342         il n’a vu aucun de ses avocats depuis mars   \n",
       "3    41640342  La défense de Julian en a été sérieusement han...   \n",
       "4    41640342  la situation à la prison de Belmarsh n’est rie...   \n",
       "..        ...                                                ...   \n",
       "569  41701752  On se tient prêt, comme on l’est depuis le 1er...   \n",
       "570  41701902  compte tenu de l’évolution de la situation, Be...   \n",
       "571  41701902  la Cour européenne des droits de l’homme a tra...   \n",
       "572  41701902  en vertu de modifications législatives et cons...   \n",
       "573  41701902    il n’y a pas de risque de persécution politique   \n",
       "\n",
       "0                  Auteur.e        Verb Indirect     Sexe  Annoté par  \\\n",
       "0                       NaN         NaN    false  unknown  Majdouline   \n",
       "1              Stella Moris  a souligné    false   female  Majdouline   \n",
       "2              Stella Moris  a souligné    false   female  Majdouline   \n",
       "3              Stella Moris   a dénoncé    false   female  Majdouline   \n",
       "4              Stella Moris   a affirmé    false   female  Majdouline   \n",
       "..                      ...         ...      ...      ...         ...   \n",
       "569      Jean-Marc Robbiani   enchaîne     false     male  Majdouline   \n",
       "570  les juges de Mon Repos    estiment     true  unknown  Majdouline   \n",
       "571     Le Tribunal fédéral    rappelle     true  unknown  Majdouline   \n",
       "572     Le Tribunal fédéral    souligne     true  unknown  Majdouline   \n",
       "573                      TF      estime     true  unknown  Majdouline   \n",
       "\n",
       "0                    Remarque  \n",
       "0                         NaN  \n",
       "1                         NaN  \n",
       "2                         NaN  \n",
       "3                         NaN  \n",
       "4                         NaN  \n",
       "..                        ...  \n",
       "569  difficile d'etre détecté  \n",
       "570                       NaN  \n",
       "571                       NaN  \n",
       "572                       NaN  \n",
       "573                       NaN  \n",
       "\n",
       "[574 rows x 8 columns]"
      ]
     },
     "execution_count": 11,
     "metadata": {},
     "output_type": "execute_result"
    }
   ],
   "source": [
    "annotés"
   ]
  },
  {
   "cell_type": "markdown",
   "id": "a29f261f-80c8-4a6a-a065-dbf7ca5420e0",
   "metadata": {
    "tags": []
   },
   "source": [
    "### Text to quote correspondance "
   ]
  },
  {
   "cell_type": "code",
   "execution_count": 12,
   "id": "1e5b0c1a-ac6b-4d54-9572-11cd5223cfed",
   "metadata": {},
   "outputs": [],
   "source": [
    "from difflib import SequenceMatcher"
   ]
  },
  {
   "cell_type": "code",
   "execution_count": 13,
   "id": "36150500-26a3-4c83-a1b8-a4968432ee34",
   "metadata": {},
   "outputs": [],
   "source": [
    "def similar(a, b):\n",
    "    return SequenceMatcher(None, a, b).ratio()"
   ]
  },
  {
   "cell_type": "code",
   "execution_count": 14,
   "id": "aabe9662-75c3-4422-b39a-0ea88e52ae2e",
   "metadata": {},
   "outputs": [],
   "source": [
    "quotes = pd.read_csv(\"../Data/quotes.csv\")\n",
    "quotes_grouped = quotes.groupby(\"article_id\")"
   ]
  },
  {
   "cell_type": "code",
   "execution_count": 15,
   "id": "22ecac4b-33aa-43d1-8f73-1721d75d7a20",
   "metadata": {},
   "outputs": [],
   "source": [
    "nbr_indirect_quotes, nbr_found_indirect_quotes = 0, 0 # to calculate recall of number of found indirect quotes\n",
    "nbr_found_mixed_quotes = 0 # To check if GenderedNews finds the \"mixed\" quotes\n",
    "male_f, male_nf, female_f,female_nf = 0,0,0,0 #To calculate the recall by gender\n",
    "text_to_quote = {} #format: key = text annotated by us, value = (max_similarity, most_matching_quote). To avoid repetition\n",
    "for grouped_object in quotes_grouped:\n",
    "    article_id = grouped_object[0]\n",
    "    article_quotes = grouped_object[1]\n",
    "    filtered = annotés[annotés['ArticleID'] == str(article_id)]\n",
    "    for _, row in filtered.iterrows():\n",
    "        text = row['Citation']\n",
    "        if type(text) is float:\n",
    "            continue\n",
    "        if(row['Indirect'] == 'true'):\n",
    "            nbr_indirect_quotes += 1\n",
    "        text_found = False\n",
    "        max_similarity_text = float(\"-inf\")\n",
    "        for quote in article_quotes.quote:\n",
    "            similarity = similar(text, quote)\n",
    "            if similarity >= 0.7 and similarity > max_similarity_text: #Seems like worst case scenario is that the annotated text is a substring of the found quote.\n",
    "                max_similarity_text = similarity\n",
    "                text_to_quote[text] = (similarity, quote, row['Sexe'])\n",
    "                if row['Indirect'] == 'mixte' and not(text_found):\n",
    "                    nbr_found_mixed_quotes += 1\n",
    "                if(row['Indirect'] == 'true' and not(text_found)):\n",
    "                    nbr_found_indirect_quotes += 1\n",
    "                text_found = True\n",
    "        if text_found:\n",
    "                if row['Sexe'] == 'male':\n",
    "                    male_f += 1\n",
    "                elif row['Sexe'] == 'female':\n",
    "                    female_f += 1\n",
    "        else:\n",
    "            if row['Sexe'] == 'male':\n",
    "                    male_nf += 1\n",
    "            elif row['Sexe'] == 'female':\n",
    "                    female_nf += 1"
   ]
  },
  {
   "cell_type": "code",
   "execution_count": 16,
   "id": "39787016-9233-4758-b972-768ba7e534b4",
   "metadata": {},
   "outputs": [],
   "source": [
    "text_to_quote_sorted = dict(sorted(text_to_quote.items(), key=lambda x: x[1]))"
   ]
  },
  {
   "cell_type": "code",
   "execution_count": 17,
   "id": "a4d438bb-28ca-4a80-bf5a-42165a0108a6",
   "metadata": {},
   "outputs": [],
   "source": [
    "def check_nbr_high_similarity_scores():\n",
    "    nbr_of_high_similarity_scores = 0\n",
    "    for text, similarity_score_quote in text_to_quote_sorted.items():\n",
    "        if similarity_score_quote[0] >= 0.7:\n",
    "            nbr_of_high_similarity_scores += 1\n",
    "            print(text)\n",
    "            print(similarity_score_quote[1])\n",
    "            print(\"--------------------------------------------------------------------\")\n",
    "    print(nbr_of_high_similarity_scores)\n",
    "#check_nbr_high_similarity_scores()"
   ]
  },
  {
   "cell_type": "code",
   "execution_count": 18,
   "id": "5b01ac41-52ab-40ee-8e1b-5bab5ece03e0",
   "metadata": {},
   "outputs": [
    {
     "data": {
      "text/plain": [
       "316"
      ]
     },
     "execution_count": 18,
     "metadata": {},
     "output_type": "execute_result"
    }
   ],
   "source": [
    "len(text_to_quote_sorted)"
   ]
  },
  {
   "cell_type": "code",
   "execution_count": 19,
   "id": "8dc9373e-f299-4fc0-a62f-1a074bbc78cb",
   "metadata": {},
   "outputs": [],
   "source": [
    "text_to_quote_female_male = {k:v for (k,v) in text_to_quote_sorted.items() if str(v[2]).lower() in ['female', 'male']}"
   ]
  },
  {
   "cell_type": "code",
   "execution_count": 20,
   "id": "928429ee-8cc3-4ef4-b51f-e65977348b8c",
   "metadata": {},
   "outputs": [
    {
     "data": {
      "text/plain": [
       "222"
      ]
     },
     "execution_count": 20,
     "metadata": {},
     "output_type": "execute_result"
    }
   ],
   "source": [
    "len(text_to_quote_female_male)"
   ]
  },
  {
   "cell_type": "markdown",
   "id": "cb1dd418-16c6-4b3c-8f4d-9fc58c1462c8",
   "metadata": {
    "tags": []
   },
   "source": [
    "### Number of indirect/mixed quotes found (all)"
   ]
  },
  {
   "cell_type": "code",
   "execution_count": 21,
   "id": "3f64ad89-bce1-4a45-a02c-ba0bcb11e25c",
   "metadata": {},
   "outputs": [
    {
     "data": {
      "text/plain": [
       "(142, 71)"
      ]
     },
     "execution_count": 21,
     "metadata": {},
     "output_type": "execute_result"
    }
   ],
   "source": [
    "nbr_indirect_quotes,nbr_found_indirect_quotes"
   ]
  },
  {
   "cell_type": "code",
   "execution_count": 22,
   "id": "87755371-8992-402a-8aa2-7efbe00ad475",
   "metadata": {},
   "outputs": [
    {
     "data": {
      "text/plain": [
       "1"
      ]
     },
     "execution_count": 22,
     "metadata": {},
     "output_type": "execute_result"
    }
   ],
   "source": [
    "nbr_found_mixed_quotes"
   ]
  },
  {
   "cell_type": "markdown",
   "id": "51df776a-1e49-4aad-a438-77497defe685",
   "metadata": {
    "tags": []
   },
   "source": [
    "### Recall check (all)"
   ]
  },
  {
   "cell_type": "code",
   "execution_count": 23,
   "id": "249618ba-135d-4e24-99e2-dae6ae153d14",
   "metadata": {},
   "outputs": [],
   "source": [
    "recall_total = len(text_to_quote)/len(annotés)\n",
    "recall_male = male_f/(male_f + male_nf)\n",
    "recall_female = female_f/(female_f + female_nf)"
   ]
  },
  {
   "cell_type": "code",
   "execution_count": 24,
   "id": "104d311e-a574-4529-9868-f7405499cdb8",
   "metadata": {},
   "outputs": [
    {
     "data": {
      "text/plain": [
       "(0.5909090909090909, 0.6436781609195402)"
      ]
     },
     "execution_count": 24,
     "metadata": {},
     "output_type": "execute_result"
    }
   ],
   "source": [
    "recall_male, recall_female"
   ]
  },
  {
   "cell_type": "code",
   "execution_count": 25,
   "id": "ed4f2276-6090-4008-99f7-bb370b39be3f",
   "metadata": {},
   "outputs": [
    {
     "data": {
      "text/plain": [
       "0.5505226480836237"
      ]
     },
     "execution_count": 25,
     "metadata": {},
     "output_type": "execute_result"
    }
   ],
   "source": [
    "recall_total"
   ]
  },
  {
   "cell_type": "markdown",
   "id": "7bd0158a-c8f0-47cb-be3d-776b7ce7d82e",
   "metadata": {
    "tags": []
   },
   "source": [
    "### Which articles are missed (all)"
   ]
  },
  {
   "cell_type": "code",
   "execution_count": 27,
   "id": "f0cf8e88-2b1a-4bfc-91ba-6582ea52c1a3",
   "metadata": {},
   "outputs": [
    {
     "data": {
      "text/plain": [
       "316"
      ]
     },
     "execution_count": 27,
     "metadata": {},
     "output_type": "execute_result"
    }
   ],
   "source": [
    "all_texts_found = list(text_to_quote_sorted.keys())\n",
    "len(all_texts_found)"
   ]
  },
  {
   "cell_type": "code",
   "execution_count": 28,
   "id": "46d4da71-5428-4334-90cf-3bb92e38b858",
   "metadata": {},
   "outputs": [],
   "source": [
    "not_found = annotés[~annotés['Citation'].isin(all_texts_found)]"
   ]
  },
  {
   "cell_type": "markdown",
   "id": "a694bc85-5dd0-4ccd-9a5c-205f8b925e94",
   "metadata": {
    "tags": []
   },
   "source": [
    "#### Proportion of quotes missed by gender"
   ]
  },
  {
   "cell_type": "code",
   "execution_count": 29,
   "id": "b3020c25-518b-42c5-b866-0ec967be8b1c",
   "metadata": {},
   "outputs": [
    {
     "data": {
      "text/plain": [
       "0.3563218390804598"
      ]
     },
     "execution_count": 29,
     "metadata": {},
     "output_type": "execute_result"
    }
   ],
   "source": [
    "proportion_female_missed = female_nf / (female_f + female_nf)\n",
    "proportion_female_missed"
   ]
  },
  {
   "cell_type": "code",
   "execution_count": 30,
   "id": "81b53e68-ac76-45cb-bb31-a0e0091dfd81",
   "metadata": {},
   "outputs": [
    {
     "data": {
      "text/plain": [
       "0.4090909090909091"
      ]
     },
     "execution_count": 30,
     "metadata": {},
     "output_type": "execute_result"
    }
   ],
   "source": [
    "proportion_male_missed = male_nf / (male_f + male_nf)\n",
    "proportion_male_missed"
   ]
  },
  {
   "cell_type": "markdown",
   "id": "9cf4799d-9974-4b50-b2b2-9cd7269cfa23",
   "metadata": {
    "tags": []
   },
   "source": [
    "#### Average length"
   ]
  },
  {
   "cell_type": "code",
   "execution_count": 31,
   "id": "5a38dd37-9277-4bdc-be4e-1bd23f84cb53",
   "metadata": {},
   "outputs": [
    {
     "data": {
      "text/plain": [
       "126.68110236220473"
      ]
     },
     "execution_count": 31,
     "metadata": {},
     "output_type": "execute_result"
    }
   ],
   "source": [
    "avg_length_not_found_quotes = not_found.Citation.map(lambda s: len(str(s))).mean()\n",
    "avg_length_not_found_quotes"
   ]
  },
  {
   "cell_type": "code",
   "execution_count": 32,
   "id": "b204b4d3-2dad-4f27-af19-7cb706c24213",
   "metadata": {},
   "outputs": [
    {
     "data": {
      "text/plain": [
       "121.7120253164557"
      ]
     },
     "execution_count": 32,
     "metadata": {},
     "output_type": "execute_result"
    }
   ],
   "source": [
    "avg_length_found_quotes = sum(list(map(lambda s : len(s), all_texts_found)))/len(all_texts_found)\n",
    "avg_length_found_quotes"
   ]
  },
  {
   "cell_type": "code",
   "execution_count": 33,
   "id": "1271e8a2-0aa4-49cb-a61a-a809770233b2",
   "metadata": {},
   "outputs": [
    {
     "data": {
      "text/plain": [
       "0.6266666666666667"
      ]
     },
     "execution_count": 33,
     "metadata": {},
     "output_type": "execute_result"
    }
   ],
   "source": [
    "#57.3% of the quotes that were described as hard to find were not found\n",
    "len(not_found[~not_found.Remarque.isnull()])/len(annotés[~annotés.Remarque.isnull()])"
   ]
  },
  {
   "cell_type": "code",
   "execution_count": null,
   "id": "3bca1b11-2cdb-4870-af0f-5b1de1d7e7e8",
   "metadata": {},
   "outputs": [],
   "source": []
  }
 ],
 "metadata": {
  "kernelspec": {
   "display_name": "Python 3",
   "language": "python",
   "name": "python3"
  },
  "language_info": {
   "codemirror_mode": {
    "name": "ipython",
    "version": 3
   },
   "file_extension": ".py",
   "mimetype": "text/x-python",
   "name": "python",
   "nbconvert_exporter": "python",
   "pygments_lexer": "ipython3",
   "version": "3.9.4"
  }
 },
 "nbformat": 4,
 "nbformat_minor": 5
}
