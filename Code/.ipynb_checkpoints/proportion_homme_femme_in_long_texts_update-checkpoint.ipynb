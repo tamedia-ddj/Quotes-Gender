{
 "cells": [
  {
   "cell_type": "markdown",
   "metadata": {},
   "source": [
    "### Import librairies"
   ]
  },
  {
   "cell_type": "code",
   "execution_count": 1,
   "metadata": {},
   "outputs": [],
   "source": [
    "import os\n",
    "import pandas as pd\n",
    "pd.options.mode.chained_assignment = None\n",
    "from pathlib import Path\n",
    "import matplotlib.pyplot as plt\n",
    "from tqdm.notebook import tqdm\n",
    "import numpy as np\n",
    "from bs4 import BeautifulSoup"
   ]
  },
  {
   "cell_type": "markdown",
   "metadata": {},
   "source": [
    "### reading file"
   ]
  },
  {
   "cell_type": "code",
   "execution_count": 2,
   "metadata": {},
   "outputs": [],
   "source": [
    "articles = pd.read_csv(\"article data.csv\")\n",
    "citations = pd.read_csv(\"citations.csv\")"
   ]
  },
  {
   "cell_type": "code",
   "execution_count": 3,
   "metadata": {},
   "outputs": [
    {
     "data": {
      "text/html": [
       "<div>\n",
       "<style scoped>\n",
       "    .dataframe tbody tr th:only-of-type {\n",
       "        vertical-align: middle;\n",
       "    }\n",
       "\n",
       "    .dataframe tbody tr th {\n",
       "        vertical-align: top;\n",
       "    }\n",
       "\n",
       "    .dataframe thead th {\n",
       "        text-align: right;\n",
       "    }\n",
       "</style>\n",
       "<table border=\"1\" class=\"dataframe\">\n",
       "  <thead>\n",
       "    <tr style=\"text-align: right;\">\n",
       "      <th></th>\n",
       "      <th>externalid</th>\n",
       "      <th>resourcetype</th>\n",
       "      <th>title</th>\n",
       "      <th>lead</th>\n",
       "      <th>text</th>\n",
       "      <th>section</th>\n",
       "      <th>is_premium</th>\n",
       "      <th>authors</th>\n",
       "      <th>first_published</th>\n",
       "      <th>last_updated</th>\n",
       "      <th>tags</th>\n",
       "      <th>target</th>\n",
       "    </tr>\n",
       "  </thead>\n",
       "  <tbody>\n",
       "    <tr>\n",
       "      <td>0</td>\n",
       "      <td>635888296326</td>\n",
       "      <td>article</td>\n",
       "      <td>Adrien Briffod, une cinquième place au goût de...</td>\n",
       "      <td>Jusqu’à 500 m de la ligne d’arrivée, il a cont...</td>\n",
       "      <td>Ce week-end, la chaîne L’Équipe 21 diffusait l...</td>\n",
       "      <td>sports</td>\n",
       "      <td>False</td>\n",
       "      <td>[Jean Ammann]</td>\n",
       "      <td>2021-08-23 08:43:45.000</td>\n",
       "      <td>2022-02-26 15:51:21.405</td>\n",
       "      <td>{gs_tag,pos_ukraine_russian_invasion},{gs_tag,...</td>\n",
       "      <td>24heures</td>\n",
       "    </tr>\n",
       "    <tr>\n",
       "      <td>1</td>\n",
       "      <td>41644755</td>\n",
       "      <td>article</td>\n",
       "      <td>Iran: Le processus pour produire de l’uranium ...</td>\n",
       "      <td>NaN</td>\n",
       "      <td>&lt;div class=\"lg\"&gt;&lt;p class=\"p\"&gt;&lt;a class=\"documen...</td>\n",
       "      <td>iran</td>\n",
       "      <td>NaN</td>\n",
       "      <td>[AFP]</td>\n",
       "      <td>2021-01-04 12:29:48.000</td>\n",
       "      <td>2021-01-05 05:01:00.155</td>\n",
       "      <td>{gs_tag,gs_politics_misc},{gs_tag,gs_law_misc}...</td>\n",
       "      <td>24heures</td>\n",
       "    </tr>\n",
       "  </tbody>\n",
       "</table>\n",
       "</div>"
      ],
      "text/plain": [
       "     externalid resourcetype  \\\n",
       "0  635888296326      article   \n",
       "1      41644755      article   \n",
       "\n",
       "                                               title  \\\n",
       "0  Adrien Briffod, une cinquième place au goût de...   \n",
       "1  Iran: Le processus pour produire de l’uranium ...   \n",
       "\n",
       "                                                lead  \\\n",
       "0  Jusqu’à 500 m de la ligne d’arrivée, il a cont...   \n",
       "1                                                NaN   \n",
       "\n",
       "                                                text section is_premium  \\\n",
       "0  Ce week-end, la chaîne L’Équipe 21 diffusait l...  sports      False   \n",
       "1  <div class=\"lg\"><p class=\"p\"><a class=\"documen...    iran        NaN   \n",
       "\n",
       "         authors          first_published             last_updated  \\\n",
       "0  [Jean Ammann]  2021-08-23 08:43:45.000  2022-02-26 15:51:21.405   \n",
       "1          [AFP]  2021-01-04 12:29:48.000  2021-01-05 05:01:00.155   \n",
       "\n",
       "                                                tags    target  \n",
       "0  {gs_tag,pos_ukraine_russian_invasion},{gs_tag,...  24heures  \n",
       "1  {gs_tag,gs_politics_misc},{gs_tag,gs_law_misc}...  24heures  "
      ]
     },
     "execution_count": 3,
     "metadata": {},
     "output_type": "execute_result"
    }
   ],
   "source": [
    "articles.head(2)"
   ]
  },
  {
   "cell_type": "code",
   "execution_count": 4,
   "metadata": {},
   "outputs": [
    {
     "data": {
      "text/html": [
       "<div>\n",
       "<style scoped>\n",
       "    .dataframe tbody tr th:only-of-type {\n",
       "        vertical-align: middle;\n",
       "    }\n",
       "\n",
       "    .dataframe tbody tr th {\n",
       "        vertical-align: top;\n",
       "    }\n",
       "\n",
       "    .dataframe thead th {\n",
       "        text-align: right;\n",
       "    }\n",
       "</style>\n",
       "<table border=\"1\" class=\"dataframe\">\n",
       "  <thead>\n",
       "    <tr style=\"text-align: right;\">\n",
       "      <th></th>\n",
       "      <th>Unnamed: 0</th>\n",
       "      <th>speaker</th>\n",
       "      <th>speaker_index</th>\n",
       "      <th>quote</th>\n",
       "      <th>quote_index</th>\n",
       "      <th>verb</th>\n",
       "      <th>verb_index</th>\n",
       "      <th>quote_token_count</th>\n",
       "      <th>quote_type</th>\n",
       "      <th>is_floating_quote</th>\n",
       "      <th>reference</th>\n",
       "      <th>speaker_gender</th>\n",
       "      <th>externalid</th>\n",
       "    </tr>\n",
       "  </thead>\n",
       "  <tbody>\n",
       "    <tr>\n",
       "      <td>0</td>\n",
       "      <td>0</td>\n",
       "      <td>Marc Ogorek</td>\n",
       "      <td>(1377, 1388)</td>\n",
       "      <td>ne pas faire tout cela par plaisir</td>\n",
       "      <td>(1396, 1430)</td>\n",
       "      <td>assure</td>\n",
       "      <td>(1389, 1395)</td>\n",
       "      <td>6</td>\n",
       "      <td>SVC</td>\n",
       "      <td>False</td>\n",
       "      <td>Marc Ogorek</td>\n",
       "      <td>male</td>\n",
       "      <td>100020966494</td>\n",
       "    </tr>\n",
       "    <tr>\n",
       "      <td>1</td>\n",
       "      <td>1</td>\n",
       "      <td>Cheveux frisés et sourcils broussailleux</td>\n",
       "      <td>(2955, 2996)</td>\n",
       "      <td>qu’en temps normal, il réalise trois quarts de...</td>\n",
       "      <td>(3079, 3210)</td>\n",
       "      <td>explique</td>\n",
       "      <td>(3070, 3078)</td>\n",
       "      <td>23</td>\n",
       "      <td>SVC</td>\n",
       "      <td>False</td>\n",
       "      <td>Cheveux frisés et sourcils broussailleux</td>\n",
       "      <td>unknown</td>\n",
       "      <td>100020966494</td>\n",
       "    </tr>\n",
       "  </tbody>\n",
       "</table>\n",
       "</div>"
      ],
      "text/plain": [
       "   Unnamed: 0                                   speaker speaker_index  \\\n",
       "0           0                               Marc Ogorek  (1377, 1388)   \n",
       "1           1  Cheveux frisés et sourcils broussailleux  (2955, 2996)   \n",
       "\n",
       "                                               quote   quote_index      verb  \\\n",
       "0                 ne pas faire tout cela par plaisir  (1396, 1430)    assure   \n",
       "1  qu’en temps normal, il réalise trois quarts de...  (3079, 3210)  explique   \n",
       "\n",
       "     verb_index  quote_token_count quote_type  is_floating_quote  \\\n",
       "0  (1389, 1395)                  6        SVC              False   \n",
       "1  (3070, 3078)                 23        SVC              False   \n",
       "\n",
       "                                  reference speaker_gender    externalid  \n",
       "0                               Marc Ogorek           male  100020966494  \n",
       "1  Cheveux frisés et sourcils broussailleux        unknown  100020966494  "
      ]
     },
     "execution_count": 4,
     "metadata": {},
     "output_type": "execute_result"
    }
   ],
   "source": [
    "citations.head(2)"
   ]
  },
  {
   "cell_type": "code",
   "execution_count": 5,
   "metadata": {},
   "outputs": [],
   "source": [
    "citations = citations.replace(to_replace={'male':'homme', 'female': 'femme'}, inplace=False)"
   ]
  },
  {
   "cell_type": "code",
   "execution_count": 6,
   "metadata": {},
   "outputs": [
    {
     "data": {
      "text/html": [
       "<div>\n",
       "<style scoped>\n",
       "    .dataframe tbody tr th:only-of-type {\n",
       "        vertical-align: middle;\n",
       "    }\n",
       "\n",
       "    .dataframe tbody tr th {\n",
       "        vertical-align: top;\n",
       "    }\n",
       "\n",
       "    .dataframe thead th {\n",
       "        text-align: right;\n",
       "    }\n",
       "</style>\n",
       "<table border=\"1\" class=\"dataframe\">\n",
       "  <thead>\n",
       "    <tr style=\"text-align: right;\">\n",
       "      <th></th>\n",
       "      <th>Unnamed: 0</th>\n",
       "      <th>speaker</th>\n",
       "      <th>speaker_index</th>\n",
       "      <th>quote</th>\n",
       "      <th>quote_index</th>\n",
       "      <th>verb</th>\n",
       "      <th>verb_index</th>\n",
       "      <th>quote_token_count</th>\n",
       "      <th>quote_type</th>\n",
       "      <th>is_floating_quote</th>\n",
       "      <th>reference</th>\n",
       "      <th>speaker_gender</th>\n",
       "      <th>externalid</th>\n",
       "    </tr>\n",
       "  </thead>\n",
       "  <tbody>\n",
       "    <tr>\n",
       "      <td>0</td>\n",
       "      <td>0</td>\n",
       "      <td>Marc Ogorek</td>\n",
       "      <td>(1377, 1388)</td>\n",
       "      <td>ne pas faire tout cela par plaisir</td>\n",
       "      <td>(1396, 1430)</td>\n",
       "      <td>assure</td>\n",
       "      <td>(1389, 1395)</td>\n",
       "      <td>6</td>\n",
       "      <td>SVC</td>\n",
       "      <td>False</td>\n",
       "      <td>Marc Ogorek</td>\n",
       "      <td>homme</td>\n",
       "      <td>100020966494</td>\n",
       "    </tr>\n",
       "    <tr>\n",
       "      <td>1</td>\n",
       "      <td>1</td>\n",
       "      <td>Cheveux frisés et sourcils broussailleux</td>\n",
       "      <td>(2955, 2996)</td>\n",
       "      <td>qu’en temps normal, il réalise trois quarts de...</td>\n",
       "      <td>(3079, 3210)</td>\n",
       "      <td>explique</td>\n",
       "      <td>(3070, 3078)</td>\n",
       "      <td>23</td>\n",
       "      <td>SVC</td>\n",
       "      <td>False</td>\n",
       "      <td>Cheveux frisés et sourcils broussailleux</td>\n",
       "      <td>unknown</td>\n",
       "      <td>100020966494</td>\n",
       "    </tr>\n",
       "  </tbody>\n",
       "</table>\n",
       "</div>"
      ],
      "text/plain": [
       "   Unnamed: 0                                   speaker speaker_index  \\\n",
       "0           0                               Marc Ogorek  (1377, 1388)   \n",
       "1           1  Cheveux frisés et sourcils broussailleux  (2955, 2996)   \n",
       "\n",
       "                                               quote   quote_index      verb  \\\n",
       "0                 ne pas faire tout cela par plaisir  (1396, 1430)    assure   \n",
       "1  qu’en temps normal, il réalise trois quarts de...  (3079, 3210)  explique   \n",
       "\n",
       "     verb_index  quote_token_count quote_type  is_floating_quote  \\\n",
       "0  (1389, 1395)                  6        SVC              False   \n",
       "1  (3070, 3078)                 23        SVC              False   \n",
       "\n",
       "                                  reference speaker_gender    externalid  \n",
       "0                               Marc Ogorek          homme  100020966494  \n",
       "1  Cheveux frisés et sourcils broussailleux        unknown  100020966494  "
      ]
     },
     "execution_count": 6,
     "metadata": {},
     "output_type": "execute_result"
    }
   ],
   "source": [
    "citations.head(2)"
   ]
  },
  {
   "cell_type": "markdown",
   "metadata": {},
   "source": [
    "### Function to get the number of characters in a text file"
   ]
  },
  {
   "cell_type": "code",
   "execution_count": 7,
   "metadata": {},
   "outputs": [],
   "source": [
    "def get_nb(text):\n",
    "#open file in read mode\n",
    "    try:\n",
    "        soup = BeautifulSoup(text, \"html.parser\")\n",
    "    except: \n",
    "        if (np.isnan(text)):\n",
    "            return np.nan\n",
    "    data = soup.text\n",
    "    # print(data)\n",
    "    #get the length of the data\n",
    "\n",
    "    number_of_characters = len(str(data))\n",
    "\n",
    "    return number_of_characters"
   ]
  },
  {
   "cell_type": "markdown",
   "metadata": {},
   "source": [
    "### Create a dictionnary to store the couple (file, number_of_char)"
   ]
  },
  {
   "cell_type": "code",
   "execution_count": 8,
   "metadata": {},
   "outputs": [
    {
     "data": {
      "application/vnd.jupyter.widget-view+json": {
       "model_id": "0272b1aa0a4a4c72af933ee118725a77",
       "version_major": 2,
       "version_minor": 0
      },
      "text/plain": [
       "HBox(children=(IntProgress(value=0, max=13320), HTML(value='')))"
      ]
     },
     "metadata": {},
     "output_type": "display_data"
    },
    {
     "name": "stdout",
     "output_type": "stream",
     "text": [
      "\n"
     ]
    }
   ],
   "source": [
    "text_size = {}\n",
    "for i in tqdm(range(len(articles))):\n",
    "    text_size[articles.iloc[i][\"externalid\"]] = get_nb(articles.iloc[i][\"text\"])"
   ]
  },
  {
   "cell_type": "markdown",
   "metadata": {},
   "source": [
    "### Print some characteristic of the distribution"
   ]
  },
  {
   "cell_type": "code",
   "execution_count": 9,
   "metadata": {},
   "outputs": [],
   "source": [
    "mean, _, _ = np.nanmean(list(text_size.values())), np.nanmedian(list(text_size.values())), np.nanstd(list(text_size.values()))"
   ]
  },
  {
   "cell_type": "code",
   "execution_count": 10,
   "metadata": {},
   "outputs": [
    {
     "data": {
      "text/plain": [
       "2946.2955523672886"
      ]
     },
     "execution_count": 10,
     "metadata": {},
     "output_type": "execute_result"
    }
   ],
   "source": [
    "mean"
   ]
  },
  {
   "cell_type": "markdown",
   "metadata": {},
   "source": [
    "### Use 3000 due to previous results"
   ]
  },
  {
   "cell_type": "code",
   "execution_count": 11,
   "metadata": {},
   "outputs": [],
   "source": [
    "SIZE = 3000"
   ]
  },
  {
   "cell_type": "markdown",
   "metadata": {},
   "source": [
    "### Create a pandas dataframe to store data"
   ]
  },
  {
   "cell_type": "code",
   "execution_count": 12,
   "metadata": {},
   "outputs": [
    {
     "data": {
      "application/vnd.jupyter.widget-view+json": {
       "model_id": "2cd922effa5749da9fe35500b1211186",
       "version_major": 2,
       "version_minor": 0
      },
      "text/plain": [
       "HBox(children=(IntProgress(value=0, max=72259), HTML(value='')))"
      ]
     },
     "metadata": {},
     "output_type": "display_data"
    },
    {
     "name": "stdout",
     "output_type": "stream",
     "text": [
      "\n"
     ]
    }
   ],
   "source": [
    "citations[\"text_size\"] = int(mean)\n",
    "for i in tqdm(range(len(citations))):\n",
    "            citations[\"text_size\"][i] = text_size[citations.iloc[i][\"externalid\"]]\n",
    "       "
   ]
  },
  {
   "cell_type": "code",
   "execution_count": 13,
   "metadata": {},
   "outputs": [
    {
     "data": {
      "text/plain": [
       "(array([  256,   360,   378, ..., 25953, 27079, 35702]),\n",
       " array([ 1,  3,  1, ..., 89, 83, 77]))"
      ]
     },
     "execution_count": 13,
     "metadata": {},
     "output_type": "execute_result"
    }
   ],
   "source": [
    "np.unique(citations[\"text_size\"].values, return_counts=True)"
   ]
  },
  {
   "cell_type": "markdown",
   "metadata": {},
   "source": [
    "### Work only with \"speaker_gender\" and \"text_size\""
   ]
  },
  {
   "cell_type": "code",
   "execution_count": 14,
   "metadata": {},
   "outputs": [],
   "source": [
    "my_df = citations[[\"speaker_gender\", \"text_size\"]]\n",
    "my_df_male = my_df[my_df.speaker_gender == \"homme\"]\n",
    "my_df_female = my_df[my_df.speaker_gender == \"femme\"]"
   ]
  },
  {
   "cell_type": "markdown",
   "metadata": {},
   "source": [
    "### Find the proportion"
   ]
  },
  {
   "cell_type": "code",
   "execution_count": 15,
   "metadata": {},
   "outputs": [],
   "source": [
    "m = len(my_df_male )\n",
    "m_l = len(my_df_male[my_df_male.text_size>3000])\n",
    "f = len(my_df_female )\n",
    "f_l = len(my_df_female[my_df_female.text_size>3000])"
   ]
  },
  {
   "cell_type": "code",
   "execution_count": 16,
   "metadata": {},
   "outputs": [
    {
     "data": {
      "text/plain": [
       "(26840, 8227)"
      ]
     },
     "execution_count": 16,
     "metadata": {},
     "output_type": "execute_result"
    }
   ],
   "source": [
    "m,f"
   ]
  },
  {
   "cell_type": "code",
   "execution_count": 17,
   "metadata": {},
   "outputs": [
    {
     "data": {
      "text/plain": [
       "(18216, 5743)"
      ]
     },
     "execution_count": 17,
     "metadata": {},
     "output_type": "execute_result"
    }
   ],
   "source": [
    "m_l, f_l"
   ]
  },
  {
   "cell_type": "markdown",
   "metadata": {},
   "source": [
    "### Plot the distribution"
   ]
  },
  {
   "cell_type": "code",
   "execution_count": 18,
   "metadata": {},
   "outputs": [
    {
     "data": {
      "text/plain": [
       "([<matplotlib.axis.XTick at 0x7f9d84a473d0>,\n",
       "  <matplotlib.axis.XTick at 0x7f9d849b9e10>],\n",
       " <a list of 2 Text xticklabel objects>)"
      ]
     },
     "execution_count": 18,
     "metadata": {},
     "output_type": "execute_result"
    },
    {
     "data": {
      "image/png": "[encoded data removed]",
      "text/plain": [
       "<Figure size 432x288 with 1 Axes>"
      ]
     },
     "metadata": {
      "needs_background": "light"
     },
     "output_type": "display_data"
    }
   ],
   "source": [
    "barWidth = 0.2\n",
    "y1 = [m_l, f_l]\n",
    "y2 = [m - m_l, f - f_l]\n",
    "r = range(len(y1))\n",
    "\n",
    "plt.bar(r, y1, width = barWidth, color = ['green' for i in y1],\n",
    "        linestyle = 'solid',\n",
    "           linewidth = 3)\n",
    "plt.bar(r, y2, width = barWidth, bottom = y1, color = ['yellow' for i in y1],\n",
    "           linestyle = 'dotted',\n",
    "           linewidth = 3)\n",
    "colors = {'All proportion':'green', 'Long text proportion':'yellow'}         \n",
    "labels = list(colors.keys())\n",
    "handles = [plt.Rectangle((0,0),1,1, color=colors[label]) for label in labels]\n",
    "plt.legend(handles, labels)\n",
    "plt.xticks(range(len(y1)), ['Homme', 'Femme'])\n",
    "\n"
   ]
  },
  {
   "cell_type": "code",
   "execution_count": 19,
   "metadata": {},
   "outputs": [
    {
     "data": {
      "text/plain": [
       "([<matplotlib.axis.XTick at 0x7f9d84ac3dd0>,\n",
       "  <matplotlib.axis.XTick at 0x7f9d8654dc90>],\n",
       " <a list of 2 Text xticklabel objects>)"
      ]
     },
     "execution_count": 19,
     "metadata": {},
     "output_type": "execute_result"
    },
    {
     "data": {
      "image/png": "[encoded data removed]",
      "text/plain": [
       "<Figure size 432x288 with 1 Axes>"
      ]
     },
     "metadata": {
      "needs_background": "light"
     },
     "output_type": "display_data"
    }
   ],
   "source": [
    "barWidth = 0.2\n",
    "y1 = [m_l, m - m_l]\n",
    "y2 = [f_l, f - f_l]\n",
    "r = range(len(y1))\n",
    "\n",
    "plt.bar(r, y1, width = barWidth, color = ['blue' for i in y1],\n",
    "        linestyle = 'solid',\n",
    "           linewidth = 3)\n",
    "plt.bar(r, y2, width = barWidth, bottom = y1, color = ['red' for i in y1],\n",
    "           linestyle = 'dotted',\n",
    "           linewidth = 3)\n",
    "colors = {'Homme':'blue', 'Femme':'red'}         \n",
    "labels = list(colors.keys())\n",
    "handles = [plt.Rectangle((0,0),1,1, color=colors[label]) for label in labels]\n",
    "plt.legend(handles, labels)\n",
    "plt.xticks(range(len(y1)), ['All proportion', 'Long text proportion'])\n",
    "\n"
   ]
  }
 ],
 "metadata": {
  "kernelspec": {
   "display_name": "Python 3",
   "language": "python",
   "name": "python3"
  },
  "language_info": {
   "codemirror_mode": {
    "name": "ipython",
    "version": 3
   },
   "file_extension": ".py",
   "mimetype": "text/x-python",
   "name": "python",
   "nbconvert_exporter": "python",
   "pygments_lexer": "ipython3",
   "version": "3.9.4"
  }
 },
 "nbformat": 4,
 "nbformat_minor": 2
}
