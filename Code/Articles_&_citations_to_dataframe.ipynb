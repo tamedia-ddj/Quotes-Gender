{
 "cells": [
  {
   "cell_type": "markdown",
   "id": "a10c2b17-2934-4624-b541-a8c475572402",
   "metadata": {},
   "source": [
    "This notebook takes the articles and citations in .txt files in the data folder and turns them into either tsv or csv"
   ]
  },
  {
   "cell_type": "markdown",
   "id": "a6218b3a-e527-42dc-9366-f5afb95d589c",
   "metadata": {},
   "source": [
    "## Imports"
   ]
  },
  {
   "cell_type": "code",
   "execution_count": 11,
   "id": "3717b1e4-c143-4ffb-bcb4-31ea62697a64",
   "metadata": {},
   "outputs": [],
   "source": [
    "import pandas as pd\n",
    "import numpy as np\n",
    "\n",
    "import os\n",
    "import fnmatch\n",
    "import json"
   ]
  },
  {
   "cell_type": "code",
   "execution_count": 20,
   "id": "3683c264-6770-4793-a2de-de9a5934d14f",
   "metadata": {},
   "outputs": [],
   "source": [
    "text_files_path ='../Data/textes_articles'\n",
    "citation_files_path = '../Data/output'\n",
    "# os.chdir(text_files_path) \n",
    "# os.getcwd()"
   ]
  },
  {
   "cell_type": "code",
   "execution_count": 14,
   "id": "6aa50d5b-0664-4239-8e98-4242a3d4e3f9",
   "metadata": {},
   "outputs": [
    {
     "data": {
      "text/plain": [
       "'C:\\\\Users\\\\Younes\\\\Documents\\\\GitHub\\\\SHS-groupe8\\\\Code'"
      ]
     },
     "execution_count": 14,
     "metadata": {},
     "output_type": "execute_result"
    }
   ],
   "source": [
    "os.getcwd()"
   ]
  },
  {
   "cell_type": "markdown",
   "id": "04fddb34-0a1d-4fb9-bfbf-e1aa26d33f12",
   "metadata": {
    "jp-MarkdownHeadingCollapsed": true,
    "tags": []
   },
   "source": [
    "## Txt articles to df"
   ]
  },
  {
   "cell_type": "markdown",
   "id": "48f866f4-7925-480e-8c14-3307311c8e35",
   "metadata": {},
   "source": [
    "### Functions"
   ]
  },
  {
   "cell_type": "code",
   "execution_count": 4,
   "id": "9690d6ad-e638-4f88-94cd-ad0a7b9dfc83",
   "metadata": {},
   "outputs": [],
   "source": [
    "def articles_to_df(text_files_path):\n",
    "    current_dir = os.getcwd()\n",
    "    os.chdir(text_files_path) \n",
    "    \n",
    "    file_list = [] # init empty list\n",
    "    \n",
    "    # get a list of the file names\n",
    "    for file in os.listdir('.'):  # \n",
    "        if fnmatch.fnmatch(file, '*.txt'):\n",
    "            file_list.append(file)\n",
    "    \n",
    "    article_dict = {} # init empty dict\n",
    "    \n",
    "    # fill dict with article ID as \"key\" and file content as \"value\"\n",
    "    for file_name in file_list:\n",
    "        with open(file_name, \"r\",encoding='utf8') as f: # , errors='ignore' if there are errors with encoding\n",
    "            article_dict[file_name[:-4]] = ' '.join(f.readlines()) \n",
    " \n",
    "    # turn the dict into a dataframe\n",
    "    df_new = pd.DataFrame.from_dict(article_dict,orient='index')\n",
    "    df_new.reset_index(inplace=True)\n",
    "    df_new.rename(columns={'index': 'externalid', 0: 'text'},inplace=True)\n",
    "    df_new['externalid'] = df_new['externalid'].apply(lambda x : int(x))\n",
    "    \n",
    "    \n",
    "    # print(len(article_dict))\n",
    "    # print(len(file_list))\n",
    "    \n",
    "    os.chdir(current_dir) \n",
    "    return df_new"
   ]
  },
  {
   "cell_type": "code",
   "execution_count": null,
   "id": "198f238f-5106-4aa4-9614-32b6eae1f936",
   "metadata": {},
   "outputs": [],
   "source": [
    "df_articles = articles_to_df(text_files_path)\n",
    "\n",
    "# sanity checks\n",
    "print(len(os.listdir(text_files_path)))\n",
    "print(len(df_articles))"
   ]
  },
  {
   "cell_type": "code",
   "execution_count": 10,
   "id": "6995e883-fbaa-4ca4-b213-21d4fc23e405",
   "metadata": {},
   "outputs": [
    {
     "data": {
      "text/html": [
       "<div>\n",
       "<style scoped>\n",
       "    .dataframe tbody tr th:only-of-type {\n",
       "        vertical-align: middle;\n",
       "    }\n",
       "\n",
       "    .dataframe tbody tr th {\n",
       "        vertical-align: top;\n",
       "    }\n",
       "\n",
       "    .dataframe thead th {\n",
       "        text-align: right;\n",
       "    }\n",
       "</style>\n",
       "<table border=\"1\" class=\"dataframe\">\n",
       "  <thead>\n",
       "    <tr style=\"text-align: right;\">\n",
       "      <th></th>\n",
       "      <th>externalid</th>\n",
       "      <th>text</th>\n",
       "    </tr>\n",
       "  </thead>\n",
       "  <tbody>\n",
       "    <tr>\n",
       "      <th>0</th>\n",
       "      <td>100020966494</td>\n",
       "      <td>Des écharpes de brume serpentent sur l’autorou...</td>\n",
       "    </tr>\n",
       "    <tr>\n",
       "      <th>1</th>\n",
       "      <td>100103147779</td>\n",
       "      <td>Genève, 22  février Depuis quelque temps, il y...</td>\n",
       "    </tr>\n",
       "    <tr>\n",
       "      <th>2</th>\n",
       "      <td>100200769950</td>\n",
       "      <td>Un fil de fer tendu sur un étroit sentier aux ...</td>\n",
       "    </tr>\n",
       "    <tr>\n",
       "      <th>3</th>\n",
       "      <td>100286240311</td>\n",
       "      <td>En novembre 2000, le journal «L’Équipe» avait ...</td>\n",
       "    </tr>\n",
       "    <tr>\n",
       "      <th>4</th>\n",
       "      <td>100432865526</td>\n",
       "      <td>La soirée promet d’être électrique ce soir au ...</td>\n",
       "    </tr>\n",
       "  </tbody>\n",
       "</table>\n",
       "</div>"
      ],
      "text/plain": [
       "     externalid                                               text\n",
       "0  100020966494  Des écharpes de brume serpentent sur l’autorou...\n",
       "1  100103147779  Genève, 22  février Depuis quelque temps, il y...\n",
       "2  100200769950  Un fil de fer tendu sur un étroit sentier aux ...\n",
       "3  100286240311  En novembre 2000, le journal «L’Équipe» avait ...\n",
       "4  100432865526  La soirée promet d’être électrique ce soir au ..."
      ]
     },
     "execution_count": 10,
     "metadata": {},
     "output_type": "execute_result"
    }
   ],
   "source": [
    "df_articles.head()"
   ]
  },
  {
   "cell_type": "markdown",
   "id": "988bc6ee-1e74-455e-bb3f-82e4f23c1543",
   "metadata": {},
   "source": [
    "## Txt citations to df"
   ]
  },
  {
   "cell_type": "code",
   "execution_count": 25,
   "id": "a6f7e2fa-4700-4a43-be0e-de449341c02b",
   "metadata": {},
   "outputs": [],
   "source": [
    "def citations_to_df(citation_files_path):\n",
    "    current_dir = os.getcwd()\n",
    "    os.chdir(citation_files_path) \n",
    "    \n",
    "    file_list = [] # init empty list\n",
    "\n",
    "    # get a list of the file names\n",
    "    for file in os.listdir('.'):  # \n",
    "        if fnmatch.fnmatch(file, '*.json'):\n",
    "            file_list.append(file)\n",
    "\n",
    "    citations_list = [] # init empty dict\n",
    "    empty_files = []\n",
    "    for citation_file_name in file_list:\n",
    "        with open(citation_file_name, 'r', encoding='utf8') as json_data:\n",
    "            # list of dicts in each file\n",
    "            try :\n",
    "                temp_citation_list = json.load(json_data)\n",
    "            except :\n",
    "                print(citation_file_name, 'is empty')\n",
    "                empty_files.append(citation_file_name)\n",
    "\n",
    "            # add article id to each citation\n",
    "            for citation in temp_citation_list:\n",
    "                citation['externalid'] = int(citation_file_name[:-5])\n",
    "\n",
    "            citations_list = citations_list + temp_citation_list\n",
    "    \n",
    "    df = pd.DataFrame(citations_list)\n",
    "    os.chdir(current_dir) \n",
    "    return df"
   ]
  },
  {
   "cell_type": "code",
   "execution_count": 26,
   "id": "46a5c73a-8a78-4352-9bab-9da90cf52cd8",
   "metadata": {},
   "outputs": [
    {
     "name": "stdout",
     "output_type": "stream",
     "text": [
      "43862564.json is empty\n"
     ]
    }
   ],
   "source": [
    "df_citations = citations_to_df(citation_files_path)"
   ]
  },
  {
   "cell_type": "code",
   "execution_count": 27,
   "id": "0b5397f7-2f40-44bc-901c-1efebce29294",
   "metadata": {
    "tags": []
   },
   "outputs": [
    {
     "data": {
      "text/html": [
       "<div>\n",
       "<style scoped>\n",
       "    .dataframe tbody tr th:only-of-type {\n",
       "        vertical-align: middle;\n",
       "    }\n",
       "\n",
       "    .dataframe tbody tr th {\n",
       "        vertical-align: top;\n",
       "    }\n",
       "\n",
       "    .dataframe thead th {\n",
       "        text-align: right;\n",
       "    }\n",
       "</style>\n",
       "<table border=\"1\" class=\"dataframe\">\n",
       "  <thead>\n",
       "    <tr style=\"text-align: right;\">\n",
       "      <th></th>\n",
       "      <th>speaker</th>\n",
       "      <th>speaker_index</th>\n",
       "      <th>quote</th>\n",
       "      <th>quote_index</th>\n",
       "      <th>verb</th>\n",
       "      <th>verb_index</th>\n",
       "      <th>quote_token_count</th>\n",
       "      <th>quote_type</th>\n",
       "      <th>is_floating_quote</th>\n",
       "      <th>reference</th>\n",
       "      <th>speaker_gender</th>\n",
       "      <th>externalid</th>\n",
       "    </tr>\n",
       "  </thead>\n",
       "  <tbody>\n",
       "    <tr>\n",
       "      <th>0</th>\n",
       "      <td>Marc Ogorek</td>\n",
       "      <td>(1377, 1388)</td>\n",
       "      <td>ne pas faire tout cela par plaisir</td>\n",
       "      <td>(1396, 1430)</td>\n",
       "      <td>assure</td>\n",
       "      <td>(1389, 1395)</td>\n",
       "      <td>6</td>\n",
       "      <td>SVC</td>\n",
       "      <td>False</td>\n",
       "      <td>Marc Ogorek</td>\n",
       "      <td>male</td>\n",
       "      <td>100020966494</td>\n",
       "    </tr>\n",
       "    <tr>\n",
       "      <th>1</th>\n",
       "      <td>Cheveux frisés et sourcils broussailleux</td>\n",
       "      <td>(2955, 2996)</td>\n",
       "      <td>qu’en temps normal, il réalise trois quarts de...</td>\n",
       "      <td>(3079, 3210)</td>\n",
       "      <td>explique</td>\n",
       "      <td>(3070, 3078)</td>\n",
       "      <td>23</td>\n",
       "      <td>SVC</td>\n",
       "      <td>False</td>\n",
       "      <td>Cheveux frisés et sourcils broussailleux</td>\n",
       "      <td>unknown</td>\n",
       "      <td>100020966494</td>\n",
       "    </tr>\n",
       "    <tr>\n",
       "      <th>2</th>\n",
       "      <td>l’un d’eux</td>\n",
       "      <td>(3401, 3411)</td>\n",
       "      <td>\"Mais au-delà, c’est toute la réciprocité des ...</td>\n",
       "      <td>(3310, 3395)</td>\n",
       "      <td>dit</td>\n",
       "      <td>(3397, 3400)</td>\n",
       "      <td>18</td>\n",
       "      <td>QCQVS</td>\n",
       "      <td>False</td>\n",
       "      <td>l’un d’eux</td>\n",
       "      <td>unknown</td>\n",
       "      <td>100020966494</td>\n",
       "    </tr>\n",
       "    <tr>\n",
       "      <th>3</th>\n",
       "      <td>qui</td>\n",
       "      <td>(1095, 1098)</td>\n",
       "      <td>L’hôpital de Genève vous remercie!</td>\n",
       "      <td>(980,1014)</td>\n",
       "      <td></td>\n",
       "      <td></td>\n",
       "      <td>5</td>\n",
       "      <td>QCQVS</td>\n",
       "      <td>False</td>\n",
       "      <td></td>\n",
       "      <td>unknown</td>\n",
       "      <td>100020966494</td>\n",
       "    </tr>\n",
       "    <tr>\n",
       "      <th>4</th>\n",
       "      <td>-il</td>\n",
       "      <td>(1547, 1550)</td>\n",
       "      <td>tonne en direction des manifestants une autom...</td>\n",
       "      <td>(1015,1517)</td>\n",
       "      <td></td>\n",
       "      <td></td>\n",
       "      <td>80</td>\n",
       "      <td>QCQVS</td>\n",
       "      <td>False</td>\n",
       "      <td></td>\n",
       "      <td>male</td>\n",
       "      <td>100020966494</td>\n",
       "    </tr>\n",
       "  </tbody>\n",
       "</table>\n",
       "</div>"
      ],
      "text/plain": [
       "                                    speaker speaker_index  \\\n",
       "0                               Marc Ogorek  (1377, 1388)   \n",
       "1  Cheveux frisés et sourcils broussailleux  (2955, 2996)   \n",
       "2                                l’un d’eux  (3401, 3411)   \n",
       "3                                       qui  (1095, 1098)   \n",
       "4                                       -il  (1547, 1550)   \n",
       "\n",
       "                                               quote   quote_index      verb  \\\n",
       "0                 ne pas faire tout cela par plaisir  (1396, 1430)    assure   \n",
       "1  qu’en temps normal, il réalise trois quarts de...  (3079, 3210)  explique   \n",
       "2  \"Mais au-delà, c’est toute la réciprocité des ...  (3310, 3395)       dit   \n",
       "3                 L’hôpital de Genève vous remercie!    (980,1014)             \n",
       "4   tonne en direction des manifestants une autom...   (1015,1517)             \n",
       "\n",
       "     verb_index  quote_token_count quote_type  is_floating_quote  \\\n",
       "0  (1389, 1395)                  6        SVC              False   \n",
       "1  (3070, 3078)                 23        SVC              False   \n",
       "2  (3397, 3400)                 18      QCQVS              False   \n",
       "3                                5      QCQVS              False   \n",
       "4                               80      QCQVS              False   \n",
       "\n",
       "                                  reference speaker_gender    externalid  \n",
       "0                               Marc Ogorek           male  100020966494  \n",
       "1  Cheveux frisés et sourcils broussailleux        unknown  100020966494  \n",
       "2                                l’un d’eux        unknown  100020966494  \n",
       "3                                                  unknown  100020966494  \n",
       "4                                                     male  100020966494  "
      ]
     },
     "execution_count": 27,
     "metadata": {},
     "output_type": "execute_result"
    }
   ],
   "source": [
    "df_citations.head()"
   ]
  },
  {
   "cell_type": "code",
   "execution_count": 29,
   "id": "7da32a0a-9ee3-43f7-aba6-0d54fcb70aa7",
   "metadata": {},
   "outputs": [],
   "source": [
    "df_citations.to_csv('../Data/citations.csv', index=True)"
   ]
  },
  {
   "cell_type": "code",
   "execution_count": 30,
   "id": "f6b641dd-efa2-41f2-962a-f0b7c13acda9",
   "metadata": {},
   "outputs": [],
   "source": [
    "df_citations_disk = pd.read_csv('../Data/citations.csv', index_col=0)"
   ]
  },
  {
   "cell_type": "code",
   "execution_count": 31,
   "id": "1e46ad2a-2f73-45e3-91d1-11502b15d40a",
   "metadata": {
    "tags": []
   },
   "outputs": [
    {
     "data": {
      "text/html": [
       "<div>\n",
       "<style scoped>\n",
       "    .dataframe tbody tr th:only-of-type {\n",
       "        vertical-align: middle;\n",
       "    }\n",
       "\n",
       "    .dataframe tbody tr th {\n",
       "        vertical-align: top;\n",
       "    }\n",
       "\n",
       "    .dataframe thead th {\n",
       "        text-align: right;\n",
       "    }\n",
       "</style>\n",
       "<table border=\"1\" class=\"dataframe\">\n",
       "  <thead>\n",
       "    <tr style=\"text-align: right;\">\n",
       "      <th></th>\n",
       "      <th>speaker</th>\n",
       "      <th>speaker_index</th>\n",
       "      <th>quote</th>\n",
       "      <th>quote_index</th>\n",
       "      <th>verb</th>\n",
       "      <th>verb_index</th>\n",
       "      <th>quote_token_count</th>\n",
       "      <th>quote_type</th>\n",
       "      <th>is_floating_quote</th>\n",
       "      <th>reference</th>\n",
       "      <th>speaker_gender</th>\n",
       "      <th>externalid</th>\n",
       "    </tr>\n",
       "  </thead>\n",
       "  <tbody>\n",
       "    <tr>\n",
       "      <th>0</th>\n",
       "      <td>Marc Ogorek</td>\n",
       "      <td>(1377, 1388)</td>\n",
       "      <td>ne pas faire tout cela par plaisir</td>\n",
       "      <td>(1396, 1430)</td>\n",
       "      <td>assure</td>\n",
       "      <td>(1389, 1395)</td>\n",
       "      <td>6</td>\n",
       "      <td>SVC</td>\n",
       "      <td>False</td>\n",
       "      <td>Marc Ogorek</td>\n",
       "      <td>male</td>\n",
       "      <td>100020966494</td>\n",
       "    </tr>\n",
       "    <tr>\n",
       "      <th>1</th>\n",
       "      <td>Cheveux frisés et sourcils broussailleux</td>\n",
       "      <td>(2955, 2996)</td>\n",
       "      <td>qu’en temps normal, il réalise trois quarts de...</td>\n",
       "      <td>(3079, 3210)</td>\n",
       "      <td>explique</td>\n",
       "      <td>(3070, 3078)</td>\n",
       "      <td>23</td>\n",
       "      <td>SVC</td>\n",
       "      <td>False</td>\n",
       "      <td>Cheveux frisés et sourcils broussailleux</td>\n",
       "      <td>unknown</td>\n",
       "      <td>100020966494</td>\n",
       "    </tr>\n",
       "    <tr>\n",
       "      <th>2</th>\n",
       "      <td>l’un d’eux</td>\n",
       "      <td>(3401, 3411)</td>\n",
       "      <td>\"Mais au-delà, c’est toute la réciprocité des ...</td>\n",
       "      <td>(3310, 3395)</td>\n",
       "      <td>dit</td>\n",
       "      <td>(3397, 3400)</td>\n",
       "      <td>18</td>\n",
       "      <td>QCQVS</td>\n",
       "      <td>False</td>\n",
       "      <td>l’un d’eux</td>\n",
       "      <td>unknown</td>\n",
       "      <td>100020966494</td>\n",
       "    </tr>\n",
       "    <tr>\n",
       "      <th>3</th>\n",
       "      <td>qui</td>\n",
       "      <td>(1095, 1098)</td>\n",
       "      <td>L’hôpital de Genève vous remercie!</td>\n",
       "      <td>(980,1014)</td>\n",
       "      <td>NaN</td>\n",
       "      <td>NaN</td>\n",
       "      <td>5</td>\n",
       "      <td>QCQVS</td>\n",
       "      <td>False</td>\n",
       "      <td>NaN</td>\n",
       "      <td>unknown</td>\n",
       "      <td>100020966494</td>\n",
       "    </tr>\n",
       "    <tr>\n",
       "      <th>4</th>\n",
       "      <td>-il</td>\n",
       "      <td>(1547, 1550)</td>\n",
       "      <td>tonne en direction des manifestants une autom...</td>\n",
       "      <td>(1015,1517)</td>\n",
       "      <td>NaN</td>\n",
       "      <td>NaN</td>\n",
       "      <td>80</td>\n",
       "      <td>QCQVS</td>\n",
       "      <td>False</td>\n",
       "      <td>NaN</td>\n",
       "      <td>male</td>\n",
       "      <td>100020966494</td>\n",
       "    </tr>\n",
       "  </tbody>\n",
       "</table>\n",
       "</div>"
      ],
      "text/plain": [
       "                                    speaker speaker_index  \\\n",
       "0                               Marc Ogorek  (1377, 1388)   \n",
       "1  Cheveux frisés et sourcils broussailleux  (2955, 2996)   \n",
       "2                                l’un d’eux  (3401, 3411)   \n",
       "3                                       qui  (1095, 1098)   \n",
       "4                                       -il  (1547, 1550)   \n",
       "\n",
       "                                               quote   quote_index      verb  \\\n",
       "0                 ne pas faire tout cela par plaisir  (1396, 1430)    assure   \n",
       "1  qu’en temps normal, il réalise trois quarts de...  (3079, 3210)  explique   \n",
       "2  \"Mais au-delà, c’est toute la réciprocité des ...  (3310, 3395)       dit   \n",
       "3                 L’hôpital de Genève vous remercie!    (980,1014)       NaN   \n",
       "4   tonne en direction des manifestants une autom...   (1015,1517)       NaN   \n",
       "\n",
       "     verb_index  quote_token_count quote_type  is_floating_quote  \\\n",
       "0  (1389, 1395)                  6        SVC              False   \n",
       "1  (3070, 3078)                 23        SVC              False   \n",
       "2  (3397, 3400)                 18      QCQVS              False   \n",
       "3           NaN                  5      QCQVS              False   \n",
       "4           NaN                 80      QCQVS              False   \n",
       "\n",
       "                                  reference speaker_gender    externalid  \n",
       "0                               Marc Ogorek           male  100020966494  \n",
       "1  Cheveux frisés et sourcils broussailleux        unknown  100020966494  \n",
       "2                                l’un d’eux        unknown  100020966494  \n",
       "3                                       NaN        unknown  100020966494  \n",
       "4                                       NaN           male  100020966494  "
      ]
     },
     "execution_count": 31,
     "metadata": {},
     "output_type": "execute_result"
    }
   ],
   "source": [
    "df_citations_disk.head()"
   ]
  },
  {
   "cell_type": "code",
   "execution_count": 32,
   "id": "62e64b85-cc83-4179-8b5f-26eac0bd7774",
   "metadata": {
    "tags": []
   },
   "outputs": [
    {
     "name": "stdout",
     "output_type": "stream",
     "text": [
      "<class 'pandas.core.frame.DataFrame'>\n",
      "Int64Index: 72259 entries, 0 to 72258\n",
      "Data columns (total 12 columns):\n",
      " #   Column             Non-Null Count  Dtype \n",
      "---  ------             --------------  ----- \n",
      " 0   speaker            66960 non-null  object\n",
      " 1   speaker_index      66960 non-null  object\n",
      " 2   quote              72259 non-null  object\n",
      " 3   quote_index        72259 non-null  object\n",
      " 4   verb               47221 non-null  object\n",
      " 5   verb_index         47221 non-null  object\n",
      " 6   quote_token_count  72259 non-null  int64 \n",
      " 7   quote_type         72259 non-null  object\n",
      " 8   is_floating_quote  72259 non-null  bool  \n",
      " 9   reference          65282 non-null  object\n",
      " 10  speaker_gender     72259 non-null  object\n",
      " 11  externalid         72259 non-null  int64 \n",
      "dtypes: bool(1), int64(2), object(9)\n",
      "memory usage: 6.7+ MB\n"
     ]
    }
   ],
   "source": [
    "df_citations_disk.info()"
   ]
  }
 ],
 "metadata": {
  "kernelspec": {
   "display_name": "Python 3",
   "language": "python",
   "name": "python3"
  },
  "language_info": {
   "codemirror_mode": {
    "name": "ipython",
    "version": 3
   },
   "file_extension": ".py",
   "mimetype": "text/x-python",
   "name": "python",
   "nbconvert_exporter": "python",
   "pygments_lexer": "ipython3",
   "version": "3.9.4"
  }
 },
 "nbformat": 4,
 "nbformat_minor": 5
}
