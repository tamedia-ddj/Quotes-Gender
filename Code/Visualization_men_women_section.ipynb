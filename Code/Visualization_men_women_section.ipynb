{
 "cells": [
  {
   "cell_type": "code",
   "execution_count": null,
   "id": "9c8d6679-67f0-43fb-a53d-56a790b75dd1",
   "metadata": {},
   "outputs": [],
   "source": [
    "import pandas as pd\n",
    "import numpy as np\n",
    "import plotly.express as px\n",
    "import json"
   ]
  },
  {
   "cell_type": "code",
   "execution_count": null,
   "id": "aab646c9-1dc3-44b0-b754-d47f8b44f24c",
   "metadata": {},
   "outputs": [],
   "source": [
    "data = pd.read_csv(\"../Data/export-articles.csv\")\n",
    "data = data.drop_duplicates('text')\n",
    "data = data.drop_duplicates('externalid')"
   ]
  },
  {
   "cell_type": "code",
   "execution_count": null,
   "id": "30df47f5-8c0d-4d29-b99c-aa629d9029c2",
   "metadata": {},
   "outputs": [],
   "source": [
    "data"
   ]
  },
  {
   "cell_type": "code",
   "execution_count": null,
   "id": "8ad0b4dd-e0a7-4e92-af43-ed3929aa0893",
   "metadata": {},
   "outputs": [],
   "source": [
    "unique_ids = data.externalid\n",
    "ids_to_section = data[['externalid', 'section']]"
   ]
  },
  {
   "cell_type": "code",
   "execution_count": null,
   "id": "7b936120-f5b5-4be4-8ebe-700aee09b03d",
   "metadata": {},
   "outputs": [],
   "source": [
    "ids_to_section.head()"
   ]
  },
  {
   "cell_type": "code",
   "execution_count": null,
   "id": "665b53c5-30f6-43f9-8dbb-5fc5a83f3c9f",
   "metadata": {},
   "outputs": [],
   "source": [
    "quotes = pd.read_csv(\"../Data/quotes.csv\")\n",
    "quotes.columns"
   ]
  },
  {
   "cell_type": "code",
   "execution_count": null,
   "id": "7063ab87-da5b-4dc9-9531-2851ae3a6709",
   "metadata": {},
   "outputs": [],
   "source": [
    "quotes_grouped_by_article = quotes.groupby(\"article_id\")"
   ]
  },
  {
   "cell_type": "code",
   "execution_count": null,
   "id": "82c0d006-f2e8-4542-a9e5-d44e6bdce6f6",
   "metadata": {},
   "outputs": [],
   "source": [
    "quotes.loc[quotes['article_id'] == 100020966494, 'female_speakers'] = 5"
   ]
  },
  {
   "cell_type": "code",
   "execution_count": null,
   "id": "10f2f5fa-7837-4fbb-9142-18022466a9c8",
   "metadata": {},
   "outputs": [],
   "source": [
    "sections_to_numbers = {}\n",
    "for grouped_object in quotes_grouped_by_article:\n",
    "    article_id = grouped_object[0]\n",
    "    article_quotes = grouped_object[1]\n",
    "    male_speakers = len(article_quotes[article_quotes['speaker_gender'] == 'male' ])\n",
    "    female_speakers = len(article_quotes[article_quotes['speaker_gender'] == 'female' ])\n",
    "    quotes.loc[quotes['article_id'] == article_id, 'male_speakers'] = male_speakers\n",
    "    quotes.loc[quotes['article_id'] == article_id, 'female_speakers'] = female_speakers\n",
    "    section = article_quotes['section'].values[0]\n",
    "    total_nbr_of_articles_for_section = 1\n",
    "    if section in sections_to_numbers.keys():\n",
    "        section_dict = sections_to_numbers[section]\n",
    "        male_speakers += section_dict['male']\n",
    "        female_speakers += section_dict['female']\n",
    "        total_nbr_of_articles_for_section += section_dict['nbr_articles']\n",
    "    sections_to_numbers[section] = {'nbr_articles' : total_nbr_of_articles_for_section, \"male\" : male_speakers, \"female\":female_speakers}\n",
    "        \n",
    "for _, section in enumerate(sections_to_numbers):\n",
    "    sections_to_numbers[section]['total_gender'] = sections_to_numbers[section]['female'] + sections_to_numbers[section]['male']        "
   ]
  },
  {
   "cell_type": "code",
   "execution_count": null,
   "id": "bf5a87c2-ad58-4e7b-87a5-c073802ce9b0",
   "metadata": {},
   "outputs": [],
   "source": [
    "article_quotes"
   ]
  },
  {
   "cell_type": "code",
   "execution_count": null,
   "id": "c2eaabd9-959b-48aa-92b9-6df9d0fd3d4a",
   "metadata": {},
   "outputs": [],
   "source": [
    "sections_to_numbers = {k: v for k, v in sections_to_numbers.items() if v['total_gender'] > 0}"
   ]
  },
  {
   "cell_type": "markdown",
   "id": "f475f819-a4e0-43ed-94bc-90603ba7e24d",
   "metadata": {
    "tags": []
   },
   "source": [
    "# Women dominated sections"
   ]
  },
  {
   "cell_type": "code",
   "execution_count": null,
   "id": "726585b3-7a16-4233-a4e6-07acf9fd397e",
   "metadata": {},
   "outputs": [],
   "source": [
    "sections_dominated_women = {}\n",
    "for _, section in enumerate(sections_to_numbers):\n",
    "    if sections_to_numbers[section]['female'] > sections_to_numbers[section]['male'] and sections_to_numbers[section]['female'] > 0:\n",
    "        sections_dominated_women[section] = sections_to_numbers[section]\n",
    "sections_dominated_women = {k: v for k, v in sorted(sections_dominated_women.items(), key=lambda item: item[1]['female'], reverse = True)}"
   ]
  },
  {
   "cell_type": "code",
   "execution_count": null,
   "id": "cb07189d-1825-47cc-ab32-1ab15aa07174",
   "metadata": {},
   "outputs": [],
   "source": [
    "sections_dominated_women"
   ]
  },
  {
   "cell_type": "markdown",
   "id": "62d05ed4-6d42-4e72-97c1-7f92abd628c9",
   "metadata": {
    "tags": []
   },
   "source": [
    "# Men dominated sections"
   ]
  },
  {
   "cell_type": "code",
   "execution_count": null,
   "id": "6f2629c1-44d2-4b2f-a0d4-950338b4cb29",
   "metadata": {},
   "outputs": [],
   "source": [
    "sections_dominated_men = {}\n",
    "for _, section in enumerate(sections_to_numbers):\n",
    "    if sections_to_numbers[section]['female'] < sections_to_numbers[section]['male']:\n",
    "        sections_dominated_men[section] = sections_to_numbers[section]\n",
    "sections_dominated_men = {k: v for k, v in sorted(sections_dominated_men.items(), key=lambda item: item[1]['female'], reverse = True)}"
   ]
  },
  {
   "cell_type": "code",
   "execution_count": null,
   "id": "60d58e36-3e3a-4e14-a1c2-60ff9eedeb7e",
   "metadata": {},
   "outputs": [],
   "source": [
    "sections_dominated_men"
   ]
  },
  {
   "cell_type": "markdown",
   "id": "bb440a7c-1133-47ea-91ff-cda28ff8c79e",
   "metadata": {},
   "source": [
    "# Proportion"
   ]
  },
  {
   "cell_type": "code",
   "execution_count": null,
   "id": "5bd7661d-bafc-454b-8246-6e871ab27a0a",
   "metadata": {},
   "outputs": [],
   "source": [
    "for _, section in enumerate(sections_to_numbers):\n",
    "    sections_to_numbers[section]['male_proportion'] = sections_to_numbers[section]['male']/sections_to_numbers[section]['total_gender']\n",
    "    sections_to_numbers[section]['female_proportion'] = sections_to_numbers[section]['female']/sections_to_numbers[section]['total_gender']"
   ]
  },
  {
   "cell_type": "code",
   "execution_count": null,
   "id": "a2571b93-7920-4870-8697-07779c64dbb8",
   "metadata": {},
   "outputs": [],
   "source": [
    "sections_male_proportions = {k: v for k, v in sorted(sections_to_numbers.items(),key=lambda item: item[1]['male_proportion'], reverse = True)}\n",
    "sections_female_proportions = {k: v for k, v in sorted(sections_to_numbers.items(),key=lambda item: item[1]['female_proportion'], reverse = True)}"
   ]
  },
  {
   "cell_type": "code",
   "execution_count": null,
   "id": "e20a01c5-98c2-4a57-9266-8674d05abbc9",
   "metadata": {},
   "outputs": [],
   "source": [
    "sections_male_proportions"
   ]
  },
  {
   "cell_type": "code",
   "execution_count": null,
   "id": "59bdc335-8a8b-47a8-9ce5-ddb35600006e",
   "metadata": {},
   "outputs": [],
   "source": []
  }
 ],
 "metadata": {
  "kernelspec": {
   "display_name": "Python 3",
   "language": "python",
   "name": "python3"
  },
  "language_info": {
   "codemirror_mode": {
    "name": "ipython",
    "version": 3
   },
   "file_extension": ".py",
   "mimetype": "text/x-python",
   "name": "python",
   "nbconvert_exporter": "python",
   "pygments_lexer": "ipython3",
   "version": "3.9.4"
  }
 },
 "nbformat": 4,
 "nbformat_minor": 5
}
